{
 "cells": [
  {
   "cell_type": "markdown",
   "id": "front-murray",
   "metadata": {
    "papermill": {
     "duration": 0.013011,
     "end_time": "2021-05-10T08:17:56.447158",
     "exception": false,
     "start_time": "2021-05-10T08:17:56.434147",
     "status": "completed"
    },
    "tags": []
   },
   "source": [
    "**AUTHOR: MAHRUKH KHAN**\n",
    "\n",
    "## TASK: 1\n",
    "* Predict the percentage of an student based on the no. of study hours.\n",
    "*  This is a simple linear regression task as it involves just 2 variables.\n",
    "*  You can use R, Python, SAS Enterprise Miner or any other tool\n",
    "*  Data can be found at http://bit.ly/w-data\n",
    "*  What will be predicted score if a student studies for 9.25 hrs/ day?\n"
   ]
  },
  {
   "cell_type": "markdown",
   "id": "fancy-serum",
   "metadata": {
    "papermill": {
     "duration": 0.011688,
     "end_time": "2021-05-10T08:17:56.471217",
     "exception": false,
     "start_time": "2021-05-10T08:17:56.459529",
     "status": "completed"
    },
    "tags": []
   },
   "source": [
    "## **SETUP:**"
   ]
  },
  {
   "cell_type": "code",
   "execution_count": 1,
   "id": "bibliographic-contributor",
   "metadata": {
    "execution": {
     "iopub.execute_input": "2021-05-10T08:17:56.499112Z",
     "iopub.status.busy": "2021-05-10T08:17:56.497953Z",
     "iopub.status.idle": "2021-05-10T08:17:57.599143Z",
     "shell.execute_reply": "2021-05-10T08:17:57.598341Z"
    },
    "papermill": {
     "duration": 1.116309,
     "end_time": "2021-05-10T08:17:57.599309",
     "exception": false,
     "start_time": "2021-05-10T08:17:56.483000",
     "status": "completed"
    },
    "tags": []
   },
   "outputs": [
    {
     "name": "stdout",
     "output_type": "stream",
     "text": [
      "Setup Complete\n"
     ]
    }
   ],
   "source": [
    "#Importing required libraries\n",
    "import pandas as pd\n",
    "import numpy as np  \n",
    "import matplotlib.pyplot as plt\n",
    "from sklearn.model_selection import train_test_split\n",
    "from sklearn.linear_model import LinearRegression  \n",
    "from sklearn import metrics\n",
    "print(\"Setup Complete\")"
   ]
  },
  {
   "cell_type": "markdown",
   "id": "humanitarian-romantic",
   "metadata": {
    "papermill": {
     "duration": 0.018227,
     "end_time": "2021-05-10T08:17:57.630689",
     "exception": false,
     "start_time": "2021-05-10T08:17:57.612462",
     "status": "completed"
    },
    "tags": []
   },
   "source": [
    "## **Data Collection:**"
   ]
  },
  {
   "cell_type": "code",
   "execution_count": 2,
   "id": "offensive-medicaid",
   "metadata": {
    "execution": {
     "iopub.execute_input": "2021-05-10T08:17:57.667323Z",
     "iopub.status.busy": "2021-05-10T08:17:57.662250Z",
     "iopub.status.idle": "2021-05-10T08:17:58.149541Z",
     "shell.execute_reply": "2021-05-10T08:17:58.149013Z"
    },
    "papermill": {
     "duration": 0.504369,
     "end_time": "2021-05-10T08:17:58.149698",
     "exception": false,
     "start_time": "2021-05-10T08:17:57.645329",
     "status": "completed"
    },
    "tags": []
   },
   "outputs": [
    {
     "name": "stdout",
     "output_type": "stream",
     "text": [
      "Data import successful\n"
     ]
    },
    {
     "data": {
      "text/plain": [
       "(25, 2)"
      ]
     },
     "execution_count": 2,
     "metadata": {},
     "output_type": "execute_result"
    }
   ],
   "source": [
    "#Reading data\n",
    "df = pd.read_csv(\"http://bit.ly/w-data\")\n",
    "print(\"Data import successful\")\n",
    "df.shape"
   ]
  },
  {
   "cell_type": "code",
   "execution_count": 3,
   "id": "qualified-percentage",
   "metadata": {
    "execution": {
     "iopub.execute_input": "2021-05-10T08:17:58.179840Z",
     "iopub.status.busy": "2021-05-10T08:17:58.179185Z",
     "iopub.status.idle": "2021-05-10T08:17:58.201619Z",
     "shell.execute_reply": "2021-05-10T08:17:58.201069Z"
    },
    "papermill": {
     "duration": 0.038699,
     "end_time": "2021-05-10T08:17:58.201791",
     "exception": false,
     "start_time": "2021-05-10T08:17:58.163092",
     "status": "completed"
    },
    "tags": []
   },
   "outputs": [
    {
     "data": {
      "text/html": [
       "<div>\n",
       "<style scoped>\n",
       "    .dataframe tbody tr th:only-of-type {\n",
       "        vertical-align: middle;\n",
       "    }\n",
       "\n",
       "    .dataframe tbody tr th {\n",
       "        vertical-align: top;\n",
       "    }\n",
       "\n",
       "    .dataframe thead th {\n",
       "        text-align: right;\n",
       "    }\n",
       "</style>\n",
       "<table border=\"1\" class=\"dataframe\">\n",
       "  <thead>\n",
       "    <tr style=\"text-align: right;\">\n",
       "      <th></th>\n",
       "      <th>Hours</th>\n",
       "      <th>Scores</th>\n",
       "    </tr>\n",
       "  </thead>\n",
       "  <tbody>\n",
       "    <tr>\n",
       "      <th>0</th>\n",
       "      <td>2.5</td>\n",
       "      <td>21</td>\n",
       "    </tr>\n",
       "    <tr>\n",
       "      <th>1</th>\n",
       "      <td>5.1</td>\n",
       "      <td>47</td>\n",
       "    </tr>\n",
       "    <tr>\n",
       "      <th>2</th>\n",
       "      <td>3.2</td>\n",
       "      <td>27</td>\n",
       "    </tr>\n",
       "    <tr>\n",
       "      <th>3</th>\n",
       "      <td>8.5</td>\n",
       "      <td>75</td>\n",
       "    </tr>\n",
       "    <tr>\n",
       "      <th>4</th>\n",
       "      <td>3.5</td>\n",
       "      <td>30</td>\n",
       "    </tr>\n",
       "  </tbody>\n",
       "</table>\n",
       "</div>"
      ],
      "text/plain": [
       "   Hours  Scores\n",
       "0    2.5      21\n",
       "1    5.1      47\n",
       "2    3.2      27\n",
       "3    8.5      75\n",
       "4    3.5      30"
      ]
     },
     "execution_count": 3,
     "metadata": {},
     "output_type": "execute_result"
    }
   ],
   "source": [
    "df.head()"
   ]
  },
  {
   "cell_type": "markdown",
   "id": "legal-affairs",
   "metadata": {
    "papermill": {
     "duration": 0.015082,
     "end_time": "2021-05-10T08:17:58.232412",
     "exception": false,
     "start_time": "2021-05-10T08:17:58.217330",
     "status": "completed"
    },
    "tags": []
   },
   "source": [
    "## **Data Visualization:**"
   ]
  },
  {
   "cell_type": "code",
   "execution_count": 4,
   "id": "comparable-mills",
   "metadata": {
    "execution": {
     "iopub.execute_input": "2021-05-10T08:17:58.267101Z",
     "iopub.status.busy": "2021-05-10T08:17:58.266409Z",
     "iopub.status.idle": "2021-05-10T08:17:58.512617Z",
     "shell.execute_reply": "2021-05-10T08:17:58.512054Z"
    },
    "papermill": {
     "duration": 0.265156,
     "end_time": "2021-05-10T08:17:58.512787",
     "exception": false,
     "start_time": "2021-05-10T08:17:58.247631",
     "status": "completed"
    },
    "tags": []
   },
   "outputs": [
    {
     "data": {
      "image/png": "[encoded data removed]",
      "text/plain": [
       "<Figure size 432x288 with 1 Axes>"
      ]
     },
     "metadata": {
      "needs_background": "light"
     },
     "output_type": "display_data"
    }
   ],
   "source": [
    "#Plotting Data in a ScatterPlot\n",
    "df.plot(x='Hours', y='Scores', style='o')\n",
    "plt.xlabel('Hours'),plt.ylabel('Scores')\n",
    "plt.title(\"Scatterplot- Hours vs Scores\")\n",
    "plt.show()"
   ]
  },
  {
   "cell_type": "markdown",
   "id": "fallen-charity",
   "metadata": {
    "papermill": {
     "duration": 0.014337,
     "end_time": "2021-05-10T08:17:58.541733",
     "exception": false,
     "start_time": "2021-05-10T08:17:58.527396",
     "status": "completed"
    },
    "tags": []
   },
   "source": [
    "Hence, there is positive correlation between the two attributes as can be seen from the above plot."
   ]
  },
  {
   "cell_type": "markdown",
   "id": "breeding-ceremony",
   "metadata": {
    "papermill": {
     "duration": 0.014323,
     "end_time": "2021-05-10T08:17:58.570695",
     "exception": false,
     "start_time": "2021-05-10T08:17:58.556372",
     "status": "completed"
    },
    "tags": []
   },
   "source": [
    "## **Training:**"
   ]
  },
  {
   "cell_type": "code",
   "execution_count": 5,
   "id": "three-invalid",
   "metadata": {
    "execution": {
     "iopub.execute_input": "2021-05-10T08:17:58.614530Z",
     "iopub.status.busy": "2021-05-10T08:17:58.613833Z",
     "iopub.status.idle": "2021-05-10T08:17:58.629215Z",
     "shell.execute_reply": "2021-05-10T08:17:58.628447Z"
    },
    "papermill": {
     "duration": 0.044122,
     "end_time": "2021-05-10T08:17:58.629377",
     "exception": false,
     "start_time": "2021-05-10T08:17:58.585255",
     "status": "completed"
    },
    "tags": []
   },
   "outputs": [
    {
     "name": "stdout",
     "output_type": "stream",
     "text": [
      "Training Complete\n"
     ]
    }
   ],
   "source": [
    "#Data Preparation\n",
    "X = df.iloc[:, :-1].values  \n",
    "y = df.iloc[:, 1].values\n",
    "#Splitting data into training and test datasets\n",
    "X_train, X_test, y_train, y_test = train_test_split(X, y, test_size=0.2, random_state=0)\n",
    "lr = LinearRegression()  \n",
    "lr.fit(X_train, y_train)\n",
    "print(\"Training Complete\")"
   ]
  },
  {
   "cell_type": "code",
   "execution_count": 6,
   "id": "bronze-english",
   "metadata": {
    "execution": {
     "iopub.execute_input": "2021-05-10T08:17:58.721639Z",
     "iopub.status.busy": "2021-05-10T08:17:58.719252Z",
     "iopub.status.idle": "2021-05-10T08:17:58.842693Z",
     "shell.execute_reply": "2021-05-10T08:17:58.842168Z"
    },
    "papermill": {
     "duration": 0.197478,
     "end_time": "2021-05-10T08:17:58.842833",
     "exception": false,
     "start_time": "2021-05-10T08:17:58.645355",
     "status": "completed"
    },
    "tags": []
   },
   "outputs": [
    {
     "data": {
      "image/png": "[encoded data removed]",
      "text/plain": [
       "<Figure size 432x288 with 1 Axes>"
      ]
     },
     "metadata": {
      "needs_background": "light"
     },
     "output_type": "display_data"
    }
   ],
   "source": [
    "# Plotting the regression line\n",
    "m = lr.coef_\n",
    "b = lr.intercept_\n",
    "line = m*X+b\n",
    "\n",
    "# Plotting for the test data\n",
    "plt.scatter(X, y)\n",
    "plt.plot(X, line);\n",
    "plt.xlabel('Hours'),plt.ylabel('Scores')\n",
    "plt.title(\"Regression Line\")\n",
    "plt.show()"
   ]
  },
  {
   "cell_type": "markdown",
   "id": "short-adventure",
   "metadata": {
    "papermill": {
     "duration": 0.015777,
     "end_time": "2021-05-10T08:17:58.874686",
     "exception": false,
     "start_time": "2021-05-10T08:17:58.858909",
     "status": "completed"
    },
    "tags": []
   },
   "source": [
    "# **Testing:**"
   ]
  },
  {
   "cell_type": "code",
   "execution_count": 7,
   "id": "monetary-prototype",
   "metadata": {
    "execution": {
     "iopub.execute_input": "2021-05-10T08:17:58.919095Z",
     "iopub.status.busy": "2021-05-10T08:17:58.918036Z",
     "iopub.status.idle": "2021-05-10T08:17:58.922298Z",
     "shell.execute_reply": "2021-05-10T08:17:58.922837Z"
    },
    "papermill": {
     "duration": 0.032194,
     "end_time": "2021-05-10T08:17:58.923035",
     "exception": false,
     "start_time": "2021-05-10T08:17:58.890841",
     "status": "completed"
    },
    "tags": []
   },
   "outputs": [
    {
     "data": {
      "text/html": [
       "<div>\n",
       "<style scoped>\n",
       "    .dataframe tbody tr th:only-of-type {\n",
       "        vertical-align: middle;\n",
       "    }\n",
       "\n",
       "    .dataframe tbody tr th {\n",
       "        vertical-align: top;\n",
       "    }\n",
       "\n",
       "    .dataframe thead th {\n",
       "        text-align: right;\n",
       "    }\n",
       "</style>\n",
       "<table border=\"1\" class=\"dataframe\">\n",
       "  <thead>\n",
       "    <tr style=\"text-align: right;\">\n",
       "      <th></th>\n",
       "      <th>Actual</th>\n",
       "      <th>Predicted</th>\n",
       "    </tr>\n",
       "  </thead>\n",
       "  <tbody>\n",
       "    <tr>\n",
       "      <th>0</th>\n",
       "      <td>20</td>\n",
       "      <td>16.884145</td>\n",
       "    </tr>\n",
       "    <tr>\n",
       "      <th>1</th>\n",
       "      <td>27</td>\n",
       "      <td>33.732261</td>\n",
       "    </tr>\n",
       "    <tr>\n",
       "      <th>2</th>\n",
       "      <td>69</td>\n",
       "      <td>75.357018</td>\n",
       "    </tr>\n",
       "    <tr>\n",
       "      <th>3</th>\n",
       "      <td>30</td>\n",
       "      <td>26.794801</td>\n",
       "    </tr>\n",
       "    <tr>\n",
       "      <th>4</th>\n",
       "      <td>62</td>\n",
       "      <td>60.491033</td>\n",
       "    </tr>\n",
       "  </tbody>\n",
       "</table>\n",
       "</div>"
      ],
      "text/plain": [
       "   Actual  Predicted\n",
       "0      20  16.884145\n",
       "1      27  33.732261\n",
       "2      69  75.357018\n",
       "3      30  26.794801\n",
       "4      62  60.491033"
      ]
     },
     "execution_count": 7,
     "metadata": {},
     "output_type": "execute_result"
    }
   ],
   "source": [
    "#Prediction of scores\n",
    "y_pred = lr.predict(X_test)\n",
    "# Comparing Actual vs Predicted\n",
    "scores = pd.DataFrame({'Actual': y_test, 'Predicted': y_pred})  \n",
    "scores"
   ]
  },
  {
   "cell_type": "code",
   "execution_count": 8,
   "id": "increasing-basin",
   "metadata": {
    "execution": {
     "iopub.execute_input": "2021-05-10T08:17:59.019336Z",
     "iopub.status.busy": "2021-05-10T08:17:59.018185Z",
     "iopub.status.idle": "2021-05-10T08:17:59.179925Z",
     "shell.execute_reply": "2021-05-10T08:17:59.179345Z"
    },
    "papermill": {
     "duration": 0.238735,
     "end_time": "2021-05-10T08:17:59.180063",
     "exception": false,
     "start_time": "2021-05-10T08:17:58.941328",
     "status": "completed"
    },
    "tags": []
   },
   "outputs": [
    {
     "data": {
      "image/png": "[encoded data removed]",
      "text/plain": [
       "<Figure size 432x288 with 1 Axes>"
      ]
     },
     "metadata": {
      "needs_background": "light"
     },
     "output_type": "display_data"
    }
   ],
   "source": [
    "#Visualizing Comparison\n",
    "plt.scatter(X_test, y_test)\n",
    "plt.scatter(X_test, y_pred)\n",
    "plt.xlabel('Hours'), plt.ylabel('Scores')\n",
    "plt.legend([\"Actual Test Data\",\"Predicted Test Data\"])\n",
    "plt.title(\"Comparison- Actual vs Predicted\")\n",
    "plt.show()"
   ]
  },
  {
   "cell_type": "markdown",
   "id": "stuffed-macintosh",
   "metadata": {
    "papermill": {
     "duration": 0.017132,
     "end_time": "2021-05-10T08:17:59.214543",
     "exception": false,
     "start_time": "2021-05-10T08:17:59.197411",
     "status": "completed"
    },
    "tags": []
   },
   "source": [
    "## **Model Evaluation:**"
   ]
  },
  {
   "cell_type": "code",
   "execution_count": 9,
   "id": "fatty-muslim",
   "metadata": {
    "execution": {
     "iopub.execute_input": "2021-05-10T08:17:59.255361Z",
     "iopub.status.busy": "2021-05-10T08:17:59.254604Z",
     "iopub.status.idle": "2021-05-10T08:17:59.257909Z",
     "shell.execute_reply": "2021-05-10T08:17:59.258702Z"
    },
    "papermill": {
     "duration": 0.026931,
     "end_time": "2021-05-10T08:17:59.258957",
     "exception": false,
     "start_time": "2021-05-10T08:17:59.232026",
     "status": "completed"
    },
    "tags": []
   },
   "outputs": [
    {
     "name": "stdout",
     "output_type": "stream",
     "text": [
      "Mean Absolute Error: 4.183859899002982\n"
     ]
    }
   ],
   "source": [
    "error = metrics.mean_absolute_error(y_test, y_pred)\n",
    "print('Mean Absolute Error:', error)"
   ]
  },
  {
   "cell_type": "markdown",
   "id": "neutral-profit",
   "metadata": {
    "papermill": {
     "duration": 0.019624,
     "end_time": "2021-05-10T08:17:59.299698",
     "exception": false,
     "start_time": "2021-05-10T08:17:59.280074",
     "status": "completed"
    },
    "tags": []
   },
   "source": [
    "## **Prediction of score for 9.25 hrs/day:**"
   ]
  },
  {
   "cell_type": "code",
   "execution_count": 10,
   "id": "adjacent-background",
   "metadata": {
    "execution": {
     "iopub.execute_input": "2021-05-10T08:17:59.345840Z",
     "iopub.status.busy": "2021-05-10T08:17:59.345050Z",
     "iopub.status.idle": "2021-05-10T08:17:59.348798Z",
     "shell.execute_reply": "2021-05-10T08:17:59.349522Z"
    },
    "papermill": {
     "duration": 0.030214,
     "end_time": "2021-05-10T08:17:59.349765",
     "exception": false,
     "start_time": "2021-05-10T08:17:59.319551",
     "status": "completed"
    },
    "tags": []
   },
   "outputs": [
    {
     "name": "stdout",
     "output_type": "stream",
     "text": [
      "No of Hours = 9.25\n",
      "Predicted Score = 93.69173248737539\n"
     ]
    }
   ],
   "source": [
    "hours = 9.25\n",
    "req_pred = lr.predict(np.array([hours]).reshape(1,1))\n",
    "print(\"No of Hours = {}\".format(hours))\n",
    "print(\"Predicted Score = {}\".format(req_pred[0]))"
   ]
  }
 ],
 "metadata": {
  "kernelspec": {
   "display_name": "Python 3",
   "language": "python",
   "name": "python3"
  },
  "language_info": {
   "codemirror_mode": {
    "name": "ipython",
    "version": 3
   },
   "file_extension": ".py",
   "mimetype": "text/x-python",
   "name": "python",
   "nbconvert_exporter": "python",
   "pygments_lexer": "ipython3",
   "version": "3.7.10"
  },
  "papermill": {
   "default_parameters": {},
   "duration": 11.507824,
   "end_time": "2021-05-10T08:18:00.078778",
   "environment_variables": {},
   "exception": null,
   "input_path": "__notebook__.ipynb",
   "output_path": "__notebook__.ipynb",
   "parameters": {},
   "start_time": "2021-05-10T08:17:48.570954",
   "version": "2.3.3"
  }
 },
 "nbformat": 4,
 "nbformat_minor": 5
}
